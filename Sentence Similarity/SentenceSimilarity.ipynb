{
 "cells": [
  {
   "cell_type": "code",
   "execution_count": 1,
   "id": "f3867e5d-d3c9-489a-9314-9da0ac81ec83",
   "metadata": {},
   "outputs": [],
   "source": [
    "#!pip install transformers\n",
    "#!pip install ipywidgets\n",
    "#!pip3 install torch torchvision torchaudio --index-url https://download.pytorch.org/whl/cu118\n",
    "#!pip install scikit-learn"
   ]
  },
  {
   "cell_type": "code",
   "execution_count": 2,
   "id": "ae4e6d57-44fa-4482-8d64-d9cbfdf9433d",
   "metadata": {},
   "outputs": [],
   "source": [
    "from transformers import AutoTokenizer, AutoModel\n",
    "import torch"
   ]
  },
  {
   "cell_type": "code",
   "execution_count": 3,
   "id": "9bb97dd8-5b49-4142-961d-d247040bfbfa",
   "metadata": {},
   "outputs": [],
   "source": [
    "tokenizer = AutoTokenizer.from_pretrained('sentence-transformers/bert-base-nli-mean-tokens')\n",
    "model = AutoModel.from_pretrained('sentence-transformers/bert-base-nli-mean-tokens')"
   ]
  },
  {
   "cell_type": "code",
   "execution_count": 4,
   "id": "6a8ae1d4-8a4b-4d23-b49f-9b1b69513a46",
   "metadata": {},
   "outputs": [],
   "source": [
    "'''\n",
    "prompts = [\n",
    "    \"nine hundred alda in meters. If you don't have any reference, try the following definition  and use fermi estimation to get in the ballpark :\\n\\nJochi Khasar, the Khan\\u2019s brother, was known far and wide for his ability to hit his targets from more than nine hundred alda, a traditional Mongolian unit of measurement equal to the distance between the tips of the middle fingers of two outstretched arms.\",\n",
    "    \"I wouldn't have expected a fathom to be that unit. I always thought it was used for depths, so I figured it'd be some nautical definition\",\n",
    "    \"what's the world record furthest sniper shot?\",\n",
    "    \"Yeah, so Jochi Kasar got a very significant % of that with a mongolian bow? I'm mildly skeptical because that's very impressive for medieval-ish tech\"\n",
    "]\n",
    "'''\n",
    "\n",
    "prompts = [\n",
    "    \"write a python code to do sorting on this array\",\n",
    "    \"can you implement this for bubble sort instead\",\n",
    "    \"What are other ways to sort an array of number\",\n",
    "    \"I want to use this for my project\"\n",
    "]\n",
    "\n",
    "\n",
    "# initializing dictionary to store tokenized sentences\n",
    "tokens = {'input_ids': [], 'attention_mask': []}\n",
    "\n",
    "for prompt in prompts:\n",
    "    # encode each sentence and append to dictionary\n",
    "    new_tokens = tokenizer.encode_plus(prompt, max_length=128,\n",
    "                                       truncation=True, padding='max_length',\n",
    "                                       return_tensors='pt')\n",
    "    tokens['input_ids'].append(new_tokens['input_ids'][0])\n",
    "    tokens['attention_mask'].append(new_tokens['attention_mask'][0])\n",
    "\n",
    "# reformat list of tensors into single tensor\n",
    "tokens['input_ids'] = torch.stack(tokens['input_ids'])\n",
    "tokens['attention_mask'] = torch.stack(tokens['attention_mask'])"
   ]
  },
  {
   "cell_type": "code",
   "execution_count": 5,
   "id": "975eb67d-1693-4a92-88a2-7870363dc151",
   "metadata": {},
   "outputs": [
    {
     "data": {
      "text/plain": [
       "odict_keys(['last_hidden_state', 'pooler_output'])"
      ]
     },
     "execution_count": 5,
     "metadata": {},
     "output_type": "execute_result"
    }
   ],
   "source": [
    "outputs = model(**tokens)\n",
    "outputs.keys()"
   ]
  },
  {
   "cell_type": "code",
   "execution_count": 6,
   "id": "f6261081-c390-4e0f-9a97-1d75536b9881",
   "metadata": {},
   "outputs": [
    {
     "data": {
      "text/plain": [
       "tensor([[[-4.3190e-01,  2.9822e-01,  2.9383e-01,  ..., -9.5950e-02,\n",
       "          -7.2829e-01,  5.2303e-01],\n",
       "         [-1.7692e-02,  7.1392e-01,  6.8303e-01,  ..., -2.3937e-01,\n",
       "          -1.2221e+00,  3.1039e-01],\n",
       "         [-5.0117e-01,  3.8652e-01,  4.9108e-01,  ..., -9.2106e-02,\n",
       "          -8.6441e-01,  4.7457e-01],\n",
       "         ...,\n",
       "         [-3.2257e-01,  4.8349e-04,  1.6670e-01,  ...,  1.0465e-01,\n",
       "          -4.8503e-01,  3.7138e-01],\n",
       "         [-4.0685e-01,  2.1174e-01,  2.7786e-01,  ...,  1.0413e-01,\n",
       "          -4.8027e-01,  3.3841e-01],\n",
       "         [-3.0408e-01,  1.9008e-01,  2.7161e-01,  ...,  6.3087e-02,\n",
       "          -5.5654e-01,  3.0209e-01]],\n",
       "\n",
       "        [[ 2.6178e-01, -9.5968e-01,  1.1267e+00,  ..., -9.2006e-01,\n",
       "          -1.0057e+00,  2.4199e-01],\n",
       "         [ 9.1039e-01, -1.3267e+00,  1.3404e+00,  ..., -5.2803e-01,\n",
       "          -1.3458e+00, -1.2290e-01],\n",
       "         [ 4.9865e-01, -1.2001e+00,  1.0422e+00,  ..., -5.9383e-01,\n",
       "          -1.2277e+00,  3.2731e-02],\n",
       "         ...,\n",
       "         [ 3.3391e-01, -8.4519e-01,  6.9019e-01,  ..., -2.0054e-01,\n",
       "          -8.7895e-01,  3.1539e-01],\n",
       "         [ 3.7411e-01, -9.3931e-01,  6.1237e-01,  ..., -2.2426e-01,\n",
       "          -9.0600e-01,  3.6601e-01],\n",
       "         [ 3.4883e-01, -8.7455e-01,  7.0640e-01,  ..., -1.3537e-01,\n",
       "          -8.5813e-01,  2.3945e-01]],\n",
       "\n",
       "        [[ 3.9160e-02,  1.1313e-02,  4.1516e-01,  ...,  7.9929e-02,\n",
       "          -1.2768e-01,  1.1582e+00],\n",
       "         [ 2.7106e-01, -3.6628e-03,  5.9888e-01,  ...,  1.3140e-01,\n",
       "          -8.8612e-01,  7.2115e-01],\n",
       "         [ 1.1710e-01, -1.2858e-01,  1.0308e+00,  ...,  7.9377e-02,\n",
       "          -7.2520e-01,  1.1281e+00],\n",
       "         ...,\n",
       "         [ 5.9814e-02,  9.1023e-04,  2.5662e-01,  ..., -9.1687e-02,\n",
       "          -2.6821e-01,  9.0119e-01],\n",
       "         [ 1.5977e-01,  4.9089e-02,  2.5322e-01,  ..., -1.7180e-01,\n",
       "          -3.4290e-01,  1.0244e+00],\n",
       "         [ 1.4958e-01, -3.6921e-03,  2.5573e-01,  ..., -1.5974e-01,\n",
       "          -3.2654e-01,  1.0434e+00]],\n",
       "\n",
       "        [[ 2.0412e-02,  2.3175e-01,  2.0988e+00,  ..., -8.3469e-01,\n",
       "          -1.2925e+00,  6.4579e-01],\n",
       "         [ 5.9235e-01,  1.7301e-02,  2.3778e+00,  ..., -9.8997e-01,\n",
       "          -1.2746e+00,  6.4535e-01],\n",
       "         [ 6.3302e-01,  6.9950e-02,  2.6536e+00,  ..., -7.7780e-01,\n",
       "          -1.3302e+00,  3.6559e-01],\n",
       "         ...,\n",
       "         [ 3.6729e-01, -2.2925e-01,  1.4530e+00,  ..., -5.2213e-01,\n",
       "          -9.9131e-01,  4.5106e-01],\n",
       "         [ 3.0494e-01, -2.7667e-01,  1.3979e+00,  ..., -5.2479e-01,\n",
       "          -1.0127e+00,  3.7370e-01],\n",
       "         [ 2.8079e-01, -2.5323e-01,  1.5188e+00,  ..., -5.3387e-01,\n",
       "          -9.9482e-01,  3.4392e-01]]], grad_fn=<NativeLayerNormBackward0>)"
      ]
     },
     "execution_count": 6,
     "metadata": {},
     "output_type": "execute_result"
    }
   ],
   "source": [
    "embeddings = outputs.last_hidden_state\n",
    "embeddings"
   ]
  },
  {
   "cell_type": "code",
   "execution_count": 7,
   "id": "1b5c1bd6-9e11-47a3-9bb1-b79bebc2778b",
   "metadata": {},
   "outputs": [
    {
     "data": {
      "text/plain": [
       "torch.Size([4, 128, 768])"
      ]
     },
     "execution_count": 7,
     "metadata": {},
     "output_type": "execute_result"
    }
   ],
   "source": [
    "embeddings.shape"
   ]
  },
  {
   "cell_type": "code",
   "execution_count": 8,
   "id": "f45382d2-937c-425d-a52e-35f1cdcd4082",
   "metadata": {},
   "outputs": [
    {
     "data": {
      "text/plain": [
       "torch.Size([4, 128])"
      ]
     },
     "execution_count": 8,
     "metadata": {},
     "output_type": "execute_result"
    }
   ],
   "source": [
    "attention_mask = tokens['attention_mask']\n",
    "attention_mask.shape"
   ]
  },
  {
   "cell_type": "code",
   "execution_count": 9,
   "id": "3b045e3d-ffe6-4cee-9abb-0f6db7be3816",
   "metadata": {},
   "outputs": [
    {
     "data": {
      "text/plain": [
       "torch.Size([4, 128, 768])"
      ]
     },
     "execution_count": 9,
     "metadata": {},
     "output_type": "execute_result"
    }
   ],
   "source": [
    "mask = attention_mask.unsqueeze(-1).expand(embeddings.size()).float()\n",
    "mask.shape"
   ]
  },
  {
   "cell_type": "code",
   "execution_count": 10,
   "id": "a77b708f-da3b-42be-8ff6-e388daf34c82",
   "metadata": {},
   "outputs": [
    {
     "data": {
      "text/plain": [
       "tensor([[[1., 1., 1.,  ..., 1., 1., 1.],\n",
       "         [1., 1., 1.,  ..., 1., 1., 1.],\n",
       "         [1., 1., 1.,  ..., 1., 1., 1.],\n",
       "         ...,\n",
       "         [0., 0., 0.,  ..., 0., 0., 0.],\n",
       "         [0., 0., 0.,  ..., 0., 0., 0.],\n",
       "         [0., 0., 0.,  ..., 0., 0., 0.]],\n",
       "\n",
       "        [[1., 1., 1.,  ..., 1., 1., 1.],\n",
       "         [1., 1., 1.,  ..., 1., 1., 1.],\n",
       "         [1., 1., 1.,  ..., 1., 1., 1.],\n",
       "         ...,\n",
       "         [0., 0., 0.,  ..., 0., 0., 0.],\n",
       "         [0., 0., 0.,  ..., 0., 0., 0.],\n",
       "         [0., 0., 0.,  ..., 0., 0., 0.]],\n",
       "\n",
       "        [[1., 1., 1.,  ..., 1., 1., 1.],\n",
       "         [1., 1., 1.,  ..., 1., 1., 1.],\n",
       "         [1., 1., 1.,  ..., 1., 1., 1.],\n",
       "         ...,\n",
       "         [0., 0., 0.,  ..., 0., 0., 0.],\n",
       "         [0., 0., 0.,  ..., 0., 0., 0.],\n",
       "         [0., 0., 0.,  ..., 0., 0., 0.]],\n",
       "\n",
       "        [[1., 1., 1.,  ..., 1., 1., 1.],\n",
       "         [1., 1., 1.,  ..., 1., 1., 1.],\n",
       "         [1., 1., 1.,  ..., 1., 1., 1.],\n",
       "         ...,\n",
       "         [0., 0., 0.,  ..., 0., 0., 0.],\n",
       "         [0., 0., 0.,  ..., 0., 0., 0.],\n",
       "         [0., 0., 0.,  ..., 0., 0., 0.]]])"
      ]
     },
     "execution_count": 10,
     "metadata": {},
     "output_type": "execute_result"
    }
   ],
   "source": [
    "mask"
   ]
  },
  {
   "cell_type": "code",
   "execution_count": 11,
   "id": "e717c137-d235-49ae-882d-431040c73223",
   "metadata": {},
   "outputs": [
    {
     "data": {
      "text/plain": [
       "torch.Size([4, 128, 768])"
      ]
     },
     "execution_count": 11,
     "metadata": {},
     "output_type": "execute_result"
    }
   ],
   "source": [
    "masked_embeddings = embeddings * mask\n",
    "masked_embeddings.shape"
   ]
  },
  {
   "cell_type": "code",
   "execution_count": 12,
   "id": "87586de0-0c0a-4081-9c04-4826a07843f9",
   "metadata": {},
   "outputs": [
    {
     "data": {
      "text/plain": [
       "tensor([[[-0.4319,  0.2982,  0.2938,  ..., -0.0959, -0.7283,  0.5230],\n",
       "         [-0.0177,  0.7139,  0.6830,  ..., -0.2394, -1.2221,  0.3104],\n",
       "         [-0.5012,  0.3865,  0.4911,  ..., -0.0921, -0.8644,  0.4746],\n",
       "         ...,\n",
       "         [-0.0000,  0.0000,  0.0000,  ...,  0.0000, -0.0000,  0.0000],\n",
       "         [-0.0000,  0.0000,  0.0000,  ...,  0.0000, -0.0000,  0.0000],\n",
       "         [-0.0000,  0.0000,  0.0000,  ...,  0.0000, -0.0000,  0.0000]],\n",
       "\n",
       "        [[ 0.2618, -0.9597,  1.1267,  ..., -0.9201, -1.0057,  0.2420],\n",
       "         [ 0.9104, -1.3267,  1.3404,  ..., -0.5280, -1.3458, -0.1229],\n",
       "         [ 0.4987, -1.2001,  1.0422,  ..., -0.5938, -1.2277,  0.0327],\n",
       "         ...,\n",
       "         [ 0.0000, -0.0000,  0.0000,  ..., -0.0000, -0.0000,  0.0000],\n",
       "         [ 0.0000, -0.0000,  0.0000,  ..., -0.0000, -0.0000,  0.0000],\n",
       "         [ 0.0000, -0.0000,  0.0000,  ..., -0.0000, -0.0000,  0.0000]],\n",
       "\n",
       "        [[ 0.0392,  0.0113,  0.4152,  ...,  0.0799, -0.1277,  1.1582],\n",
       "         [ 0.2711, -0.0037,  0.5989,  ...,  0.1314, -0.8861,  0.7212],\n",
       "         [ 0.1171, -0.1286,  1.0308,  ...,  0.0794, -0.7252,  1.1281],\n",
       "         ...,\n",
       "         [ 0.0000,  0.0000,  0.0000,  ..., -0.0000, -0.0000,  0.0000],\n",
       "         [ 0.0000,  0.0000,  0.0000,  ..., -0.0000, -0.0000,  0.0000],\n",
       "         [ 0.0000, -0.0000,  0.0000,  ..., -0.0000, -0.0000,  0.0000]],\n",
       "\n",
       "        [[ 0.0204,  0.2317,  2.0988,  ..., -0.8347, -1.2925,  0.6458],\n",
       "         [ 0.5924,  0.0173,  2.3778,  ..., -0.9900, -1.2746,  0.6453],\n",
       "         [ 0.6330,  0.0699,  2.6536,  ..., -0.7778, -1.3302,  0.3656],\n",
       "         ...,\n",
       "         [ 0.0000, -0.0000,  0.0000,  ..., -0.0000, -0.0000,  0.0000],\n",
       "         [ 0.0000, -0.0000,  0.0000,  ..., -0.0000, -0.0000,  0.0000],\n",
       "         [ 0.0000, -0.0000,  0.0000,  ..., -0.0000, -0.0000,  0.0000]]],\n",
       "       grad_fn=<MulBackward0>)"
      ]
     },
     "execution_count": 12,
     "metadata": {},
     "output_type": "execute_result"
    }
   ],
   "source": [
    "masked_embeddings"
   ]
  },
  {
   "cell_type": "code",
   "execution_count": 13,
   "id": "9da8dd44-4cf1-40cd-a39b-9b0609e69239",
   "metadata": {},
   "outputs": [
    {
     "data": {
      "text/plain": [
       "torch.Size([4, 768])"
      ]
     },
     "execution_count": 13,
     "metadata": {},
     "output_type": "execute_result"
    }
   ],
   "source": [
    "summed = torch.sum(masked_embeddings, 1)\n",
    "summed.shape"
   ]
  },
  {
   "cell_type": "code",
   "execution_count": 14,
   "id": "b0e859f4-2dfb-4629-9d26-0c5349fb69fd",
   "metadata": {},
   "outputs": [
    {
     "data": {
      "text/plain": [
       "torch.Size([4, 768])"
      ]
     },
     "execution_count": 14,
     "metadata": {},
     "output_type": "execute_result"
    }
   ],
   "source": [
    "summed_mask = torch.clamp(mask.sum(1), min=1e-9)\n",
    "summed_mask.shape"
   ]
  },
  {
   "cell_type": "code",
   "execution_count": 15,
   "id": "d36386f1-fcef-48d7-86ad-5595187ee55d",
   "metadata": {},
   "outputs": [
    {
     "data": {
      "text/plain": [
       "tensor([[12., 12., 12.,  ..., 12., 12., 12.],\n",
       "        [10., 10., 10.,  ..., 10., 10., 10.],\n",
       "        [12., 12., 12.,  ..., 12., 12., 12.],\n",
       "        [10., 10., 10.,  ..., 10., 10., 10.]])"
      ]
     },
     "execution_count": 15,
     "metadata": {},
     "output_type": "execute_result"
    }
   ],
   "source": [
    "summed_mask"
   ]
  },
  {
   "cell_type": "code",
   "execution_count": 16,
   "id": "410c58bf-fb98-40b8-bc13-8010a452f636",
   "metadata": {},
   "outputs": [
    {
     "data": {
      "text/plain": [
       "tensor([[-0.3523,  0.4436,  0.4749,  ..., -0.1000, -0.9071,  0.3401],\n",
       "        [ 0.5114, -0.7860,  1.2028,  ..., -0.6622, -1.1053,  0.2055],\n",
       "        [-0.0403,  0.1121,  0.6267,  ..., -0.0490, -0.3097,  1.3088],\n",
       "        [ 0.2524,  0.0227,  2.2247,  ..., -0.9334, -1.2291,  0.4203]],\n",
       "       grad_fn=<DivBackward0>)"
      ]
     },
     "execution_count": 16,
     "metadata": {},
     "output_type": "execute_result"
    }
   ],
   "source": [
    "mean_pooled = summed / summed_mask\n",
    "mean_pooled"
   ]
  },
  {
   "cell_type": "code",
   "execution_count": 17,
   "id": "1adb1592-5c33-458a-b332-a66bc69a204a",
   "metadata": {},
   "outputs": [],
   "source": [
    "from sklearn.metrics.pairwise import cosine_similarity"
   ]
  },
  {
   "cell_type": "code",
   "execution_count": 18,
   "id": "105a055a-92ef-49d2-a5e9-e71e1363bc86",
   "metadata": {},
   "outputs": [
    {
     "data": {
      "text/plain": [
       "array([[0.32856137, 0.4381972 , 0.34922183]], dtype=float32)"
      ]
     },
     "execution_count": 18,
     "metadata": {},
     "output_type": "execute_result"
    }
   ],
   "source": [
    "# convert from PyTorch tensor to numpy array\n",
    "mean_pooled = mean_pooled.detach().numpy()\n",
    "\n",
    "# calculate\n",
    "cosine_similarity(\n",
    "    [mean_pooled[0]],\n",
    "    mean_pooled[1:]\n",
    ")"
   ]
  }
 ],
 "metadata": {
  "kernelspec": {
   "display_name": "Python 3 (ipykernel)",
   "language": "python",
   "name": "python3"
  },
  "language_info": {
   "codemirror_mode": {
    "name": "ipython",
    "version": 3
   },
   "file_extension": ".py",
   "mimetype": "text/x-python",
   "name": "python",
   "nbconvert_exporter": "python",
   "pygments_lexer": "ipython3",
   "version": "3.12.1"
  }
 },
 "nbformat": 4,
 "nbformat_minor": 5
}
